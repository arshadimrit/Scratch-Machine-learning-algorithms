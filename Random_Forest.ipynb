{
 "cells": [
  {
   "cell_type": "markdown",
   "metadata": {},
   "source": [
    "##### More here: https://en.wikipedia.org/wiki/Random_forest\n",
    "\n",
    "Random Forest = Ensemble learning method. Can be used for classification and regressions. \n",
    "\n",
    "What is in a forest? Many trees right? That's what a random forest is made of, many decision trees. The output of the trees are averaged and the class which gets the most vote is the output, for a set of input. An advantage of random forest over decision tree is that there is less overfitting (typical of trees) since random sets of features are used for each tree, with replacement."
   ]
  },
  {
   "cell_type": "code",
   "execution_count": null,
   "metadata": {},
   "outputs": [],
   "source": []
  }
 ],
 "metadata": {
  "kernelspec": {
   "display_name": "Python 3",
   "language": "python",
   "name": "python3"
  },
  "language_info": {
   "codemirror_mode": {
    "name": "ipython",
    "version": 3
   },
   "file_extension": ".py",
   "mimetype": "text/x-python",
   "name": "python",
   "nbconvert_exporter": "python",
   "pygments_lexer": "ipython3",
   "version": "3.7.6"
  }
 },
 "nbformat": 4,
 "nbformat_minor": 4
}
