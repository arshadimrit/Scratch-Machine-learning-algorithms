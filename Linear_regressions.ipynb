{
 "cells": [
  {
   "cell_type": "markdown",
   "metadata": {},
   "source": [
    "# Linear Regressions\n",
    "\n",
    "##### More here: https://en.wikipedia.org/wiki/Linear_regression\n",
    "\n",
    "Linear regressions = model relationship between scalar response and explanatory variables. In machine learning, that would be using your predictors to model the target. Linear models are often used due to its intuitiveness and simplicity in being implemented. They can be used for predictions, as well as explaining the variation in data.\n",
    "\n",
    "The formula is y = Bo + XB + e, where: \n",
    "- y: target\n",
    "- Bo: intercept\n",
    "- X: predictors\n",
    "- B: coefficients\n",
    "- e: error term\n",
    "\n",
    "Common accuracy metric = RMSE"
   ]
  },
  {
   "cell_type": "code",
   "execution_count": 1,
   "metadata": {},
   "outputs": [],
   "source": [
    "import pandas as pd\n",
    "import numpy as np\n",
    "import matplotlib.pyplot as graph\n",
    "import seaborn as sns"
   ]
  },
  {
   "cell_type": "markdown",
   "metadata": {},
   "source": [
    "Let's make some fake data and plot these first."
   ]
  },
  {
   "cell_type": "code",
   "execution_count": 45,
   "metadata": {},
   "outputs": [
    {
     "name": "stdout",
     "output_type": "stream",
     "text": [
      "[18.24666231 35.36415188 19.87296846  8.7616882  23.41097623]\n",
      "[55.29496734 97.63332297 41.28581647 21.54055551 54.78580602]\n"
     ]
    }
   ],
   "source": [
    "x = np.random.uniform(0, 40, size=(100))\n",
    "y = x*2.5 + 3 + np.random.normal(1, 9, len(x))\n",
    "\n",
    "print(x[:5])\n",
    "print(y[:5])"
   ]
  },
  {
   "cell_type": "code",
   "execution_count": 46,
   "metadata": {},
   "outputs": [
    {
     "data": {
      "image/png": "[encoded data removed]",
      "text/plain": [
       "<Figure size 432x288 with 1 Axes>"
      ]
     },
     "metadata": {
      "needs_background": "light"
     },
     "output_type": "display_data"
    }
   ],
   "source": [
    "graph.scatter(x, y)\n",
    "graph.show()"
   ]
  },
  {
   "cell_type": "markdown",
   "metadata": {},
   "source": [
    "Nice! The data looks random enough"
   ]
  },
  {
   "cell_type": "markdown",
   "metadata": {},
   "source": [
    "### Intercept and coeff calculation\n",
    "Now I'll calculate the coefficient of X and the intercept. Later on we'll build these into our function.\n",
    "\n",
    "To calculate the coeff, we need to calculate the covariance of x and y, and the variance of x. Then we can calculate the intercept"
   ]
  },
  {
   "cell_type": "code",
   "execution_count": 47,
   "metadata": {},
   "outputs": [
    {
     "name": "stdout",
     "output_type": "stream",
     "text": [
      "Coeff: 2.36, intercept: 9.11\n"
     ]
    }
   ],
   "source": [
    "covar_xy = (x - np.mean(x)) * (y - np.mean(y))\n",
    "var_x = (x - np.mean(x)) ** 2\n",
    "\n",
    "coeff = np.sum(covar_xy) / var_x.sum()\n",
    "intercept = np.mean(y) - (coeff * np.mean(x))\n",
    "\n",
    "print(f'Coeff: {coeff:.2f}, intercept: {intercept:.2f}')                "
   ]
  },
  {
   "cell_type": "markdown",
   "metadata": {},
   "source": [
    "These are actually pretty close to coefficients and intercepts we used before. Let's plot model now"
   ]
  },
  {
   "cell_type": "code",
   "execution_count": 48,
   "metadata": {},
   "outputs": [
    {
     "data": {
      "image/png": "[encoded data removed]",
      "text/plain": [
       "<Figure size 432x288 with 1 Axes>"
      ]
     },
     "metadata": {
      "needs_background": "light"
     },
     "output_type": "display_data"
    }
   ],
   "source": [
    "pred_y = intercept + x*coeff\n",
    "\n",
    "graph.scatter(x, y)\n",
    "graph.plot(x, pred_y, color='red')\n",
    "graph.show()"
   ]
  },
  {
   "cell_type": "markdown",
   "metadata": {},
   "source": [
    "Let's evaluate the model. Here we'll use the RMSE"
   ]
  },
  {
   "cell_type": "code",
   "execution_count": 49,
   "metadata": {},
   "outputs": [
    {
     "name": "stdout",
     "output_type": "stream",
     "text": [
      "Root mean squared error: 8.30\n"
     ]
    }
   ],
   "source": [
    "rmse = np.sqrt(np.sum((pred_y - y) ** 2) / len(y))\n",
    "print(f'Root mean squared error: {rmse:.2f}')"
   ]
  },
  {
   "cell_type": "markdown",
   "metadata": {},
   "source": [
    "This is a bit high. BUT if you look closely, that's similar to the random error we added to y in the beginning. Not bad for a very basic model. Now let's make the linear regression class. We'll create a function for the accuracy metric (RMSE) as well"
   ]
  },
  {
   "cell_type": "markdown",
   "metadata": {},
   "source": [
    "## Linear Regression Class"
   ]
  },
  {
   "cell_type": "code",
   "execution_count": 83,
   "metadata": {},
   "outputs": [],
   "source": [
    "class linear_regression():\n",
    "    \n",
    "    def __init__(self):\n",
    "        self.coeff = None\n",
    "        self.intercep = None\n",
    "        \n",
    "    def fit(self, x, y):        \n",
    "        covar_xy = (x - np.mean(x)) * (y - np.mean(y))\n",
    "        var_x = (x - np.mean(x)) ** 2\n",
    "\n",
    "        self.coeff = np.sum(covar_xy) / np.sum(var_x)\n",
    "        self.intercept = np.mean(y) - (self.coeff * np.mean(x))\n",
    "        \n",
    "    def get_params(self):\n",
    "        return self.coeff, self.intercept\n",
    "    \n",
    "    def pred(self, X):\n",
    "        if not self.coeff or not self.pred:\n",
    "            raise Exception('Please call linear_regression.fit(x, y) before making predictions')\n",
    "        \n",
    "        self.pred_y = self.intercept + X*self.coeff\n",
    "        return self.pred_y\n",
    "    \n",
    "\n",
    "def rmse(y, y_pred):\n",
    "    return np.sqrt(np.sum((y_pred - y) ** 2) / len(y))"
   ]
  },
  {
   "cell_type": "markdown",
   "metadata": {},
   "source": [
    "We'll create another set of fake data and test this class"
   ]
  },
  {
   "cell_type": "code",
   "execution_count": 103,
   "metadata": {},
   "outputs": [],
   "source": [
    "A = np.random.uniform(100, 200, size=(50))\n",
    "B = A*20 + 5 + np.random.normal(1, 100, len(A))"
   ]
  },
  {
   "cell_type": "code",
   "execution_count": 104,
   "metadata": {},
   "outputs": [
    {
     "name": "stdout",
     "output_type": "stream",
     "text": [
      "(20.00347512641656, 11.77665459799664)\n"
     ]
    }
   ],
   "source": [
    "linear_model = linear_regression()\n",
    "linear_model.fit(A, B)\n",
    "print(linear_model.get_params())"
   ]
  },
  {
   "cell_type": "code",
   "execution_count": 105,
   "metadata": {},
   "outputs": [
    {
     "data": {
      "image/png": "[encoded data removed]",
      "text/plain": [
       "<Figure size 432x288 with 1 Axes>"
      ]
     },
     "metadata": {
      "needs_background": "light"
     },
     "output_type": "display_data"
    }
   ],
   "source": [
    "pred_y = linear_model.pred(A)\n",
    "graph.scatter(A, B)\n",
    "graph.plot(A, pred_y, color='red')\n",
    "graph.show()"
   ]
  },
  {
   "cell_type": "code",
   "execution_count": 106,
   "metadata": {},
   "outputs": [
    {
     "data": {
      "text/plain": [
       "100.32108028359255"
      ]
     },
     "execution_count": 106,
     "metadata": {},
     "output_type": "execute_result"
    }
   ],
   "source": [
    "rmse(B, pred_y)"
   ]
  },
  {
   "cell_type": "markdown",
   "metadata": {},
   "source": []
  }
 ],
 "metadata": {
  "kernelspec": {
   "display_name": "Python 3",
   "language": "python",
   "name": "python3"
  },
  "language_info": {
   "codemirror_mode": {
    "name": "ipython",
    "version": 3
   },
   "file_extension": ".py",
   "mimetype": "text/x-python",
   "name": "python",
   "nbconvert_exporter": "python",
   "pygments_lexer": "ipython3",
   "version": "3.7.6"
  }
 },
 "nbformat": 4,
 "nbformat_minor": 4
}
