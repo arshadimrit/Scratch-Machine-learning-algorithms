{
 "cells": [
  {
   "cell_type": "markdown",
   "metadata": {},
   "source": [
    "# Linear Regressions\n",
    "\n",
    "##### More here: https://en.wikipedia.org/wiki/Linear_regression\n",
    "\n",
    "Linear regressions = model relationship between scalar response and explanatory variables. In machine learning, that would be using your predictors to model the target. Linear models are often used due to its intuitiveness and simplicity in being implemented. They can be used for predictions, as well as explaining the variation in data.\n",
    "\n",
    "The formula is y = Bo + XB + e, where: \n",
    "- y: target\n",
    "- Bo: intercept\n",
    "- X: predictors\n",
    "- B: coefficients\n",
    "- e: error term\n",
    "\n",
    "Common accuracy metric = RMSE"
   ]
  },
  {
   "cell_type": "code",
   "execution_count": 1,
   "metadata": {},
   "outputs": [],
   "source": [
    "import pandas as pd\n",
    "import numpy as np\n",
    "import matplotlib.pyplot as graph\n",
    "import seaborn as sns"
   ]
  },
  {
   "cell_type": "markdown",
   "metadata": {},
   "source": [
    "Let's make some fake data and plot these first."
   ]
  },
  {
   "cell_type": "code",
   "execution_count": 2,
   "metadata": {},
   "outputs": [
    {
     "name": "stdout",
     "output_type": "stream",
     "text": [
      "[15.2910649   0.46730952 38.4952432  30.84843605 20.41878538]\n",
      "[47.09655125 -0.43507301 93.40981248 86.8455058  53.469633  ]\n"
     ]
    }
   ],
   "source": [
    "x = np.random.uniform(0, 40, size=(100))\n",
    "y = x*2.5 + 3 + np.random.normal(1, 9, len(x))\n",
    "\n",
    "print(x[:5])\n",
    "print(y[:5])"
   ]
  },
  {
   "cell_type": "code",
   "execution_count": 3,
   "metadata": {},
   "outputs": [
    {
     "data": {
      "image/png": "[encoded data removed]",
      "text/plain": [
       "<Figure size 432x288 with 1 Axes>"
      ]
     },
     "metadata": {
      "needs_background": "light"
     },
     "output_type": "display_data"
    }
   ],
   "source": [
    "graph.scatter(x, y)\n",
    "graph.show()"
   ]
  },
  {
   "cell_type": "markdown",
   "metadata": {},
   "source": [
    "Nice! The data looks random enough"
   ]
  },
  {
   "cell_type": "markdown",
   "metadata": {},
   "source": [
    "### Intercept and coeff calculation\n",
    "Now I'll calculate the coefficient of X and the intercept. Later on we'll build these into our function.\n",
    "\n",
    "To calculate the coeff, we need to calculate the covariance of x and y, and the variance of x. Then we can calculate the intercept"
   ]
  },
  {
   "cell_type": "code",
   "execution_count": 4,
   "metadata": {},
   "outputs": [
    {
     "name": "stdout",
     "output_type": "stream",
     "text": [
      "Coeff: 2.46, intercept: 5.81\n"
     ]
    }
   ],
   "source": [
    "covar_xy = (x - np.mean(x)) * (y - np.mean(y))\n",
    "var_x = (x - np.mean(x)) ** 2\n",
    "\n",
    "coeff = np.sum(covar_xy) / var_x.sum()\n",
    "intercept = np.mean(y) - (coeff * np.mean(x))\n",
    "\n",
    "print(f'Coeff: {coeff:.2f}, intercept: {intercept:.2f}')                "
   ]
  },
  {
   "cell_type": "markdown",
   "metadata": {},
   "source": [
    "These are actually pretty close to coefficients and intercepts we used before. Let's plot model now"
   ]
  },
  {
   "cell_type": "code",
   "execution_count": 5,
   "metadata": {},
   "outputs": [
    {
     "data": {
      "image/png": "[encoded data removed]",
      "text/plain": [
       "<Figure size 432x288 with 1 Axes>"
      ]
     },
     "metadata": {
      "needs_background": "light"
     },
     "output_type": "display_data"
    }
   ],
   "source": [
    "pred_y = intercept + x*coeff\n",
    "\n",
    "graph.scatter(x, y)\n",
    "graph.plot(x, pred_y, color='red')\n",
    "graph.show()"
   ]
  },
  {
   "cell_type": "markdown",
   "metadata": {},
   "source": [
    "Let's evaluate the model. Here we'll use the RMSE"
   ]
  },
  {
   "cell_type": "code",
   "execution_count": 6,
   "metadata": {},
   "outputs": [
    {
     "name": "stdout",
     "output_type": "stream",
     "text": [
      "Root mean squared error: 8.42\n"
     ]
    }
   ],
   "source": [
    "rmse = np.sqrt(np.sum((pred_y - y) ** 2) / len(y))\n",
    "print(f'Root mean squared error: {rmse:.2f}')"
   ]
  },
  {
   "cell_type": "markdown",
   "metadata": {},
   "source": [
    "This is a bit high. BUT if you look closely, that's similar to the random error we added to y in the beginning. Not bad for a very basic model. Now let's make the linear regression class. We'll create a function for the accuracy metric (RMSE) as well"
   ]
  },
  {
   "cell_type": "markdown",
   "metadata": {},
   "source": [
    "## Linear Regression Class"
   ]
  },
  {
   "cell_type": "code",
   "execution_count": 7,
   "metadata": {},
   "outputs": [],
   "source": [
    "class linear_regression():\n",
    "    \n",
    "    def __init__(self):\n",
    "        self.coeff = None\n",
    "        self.intercep = None\n",
    "        \n",
    "    def fit(self, x, y):        \n",
    "        covar_xy = (x - np.mean(x)) * (y - np.mean(y))\n",
    "        var_x = (x - np.mean(x)) ** 2\n",
    "\n",
    "        self.coeff = np.sum(covar_xy) / np.sum(var_x)\n",
    "        self.intercept = np.mean(y) - (self.coeff * np.mean(x))\n",
    "        \n",
    "    def get_params(self):\n",
    "        return self.coeff, self.intercept\n",
    "    \n",
    "    def pred(self, X):\n",
    "        if not self.coeff or not self.pred:\n",
    "            raise Exception('Please call linear_regression.fit(x, y) before making predictions')\n",
    "        \n",
    "        self.pred_y = self.intercept + X*self.coeff\n",
    "        return self.pred_y\n",
    "    \n",
    "\n",
    "def rmse(y, y_pred):\n",
    "    return np.sqrt(np.sum((y_pred - y) ** 2) / len(y))"
   ]
  },
  {
   "cell_type": "markdown",
   "metadata": {},
   "source": [
    "We'll create another set of fake data and test this class"
   ]
  },
  {
   "cell_type": "code",
   "execution_count": 8,
   "metadata": {},
   "outputs": [],
   "source": [
    "A = np.random.uniform(100, 200, size=(50))\n",
    "B = A*20 + 5 + np.random.normal(1, 100, len(A))"
   ]
  },
  {
   "cell_type": "code",
   "execution_count": 9,
   "metadata": {},
   "outputs": [
    {
     "name": "stdout",
     "output_type": "stream",
     "text": [
      "(20.095705345230094, -18.155488029766275)\n"
     ]
    }
   ],
   "source": [
    "linear_model = linear_regression()\n",
    "linear_model.fit(A, B)\n",
    "print(linear_model.get_params())"
   ]
  },
  {
   "cell_type": "code",
   "execution_count": 10,
   "metadata": {},
   "outputs": [
    {
     "data": {
      "image/png": "[encoded data removed]",
      "text/plain": [
       "<Figure size 432x288 with 1 Axes>"
      ]
     },
     "metadata": {
      "needs_background": "light"
     },
     "output_type": "display_data"
    }
   ],
   "source": [
    "pred_y = linear_model.pred(A)\n",
    "graph.scatter(A, B)\n",
    "graph.plot(A, pred_y, color='red')\n",
    "graph.show()"
   ]
  },
  {
   "cell_type": "code",
   "execution_count": 11,
   "metadata": {},
   "outputs": [
    {
     "data": {
      "text/plain": [
       "100.18419084286057"
      ]
     },
     "execution_count": 11,
     "metadata": {},
     "output_type": "execute_result"
    }
   ],
   "source": [
    "rmse(B, pred_y)"
   ]
  },
  {
   "cell_type": "markdown",
   "metadata": {},
   "source": [
    "#### This was pretty helpful for me to understand the linear regressions. Next step would be to add regularization to the class"
   ]
  }
 ],
 "metadata": {
  "kernelspec": {
   "display_name": "Python 3",
   "language": "python",
   "name": "python3"
  },
  "language_info": {
   "codemirror_mode": {
    "name": "ipython",
    "version": 3
   },
   "file_extension": ".py",
   "mimetype": "text/x-python",
   "name": "python",
   "nbconvert_exporter": "python",
   "pygments_lexer": "ipython3",
   "version": "3.7.6"
  }
 },
 "nbformat": 4,
 "nbformat_minor": 4
}
